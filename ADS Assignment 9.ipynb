{
 "cells": [
  {
   "cell_type": "markdown",
   "metadata": {},
   "source": [
    "<h1><center>ADS Assignment 9</center></h1>"
   ]
  },
  {
   "cell_type": "markdown",
   "metadata": {},
   "source": [
    "The assignment focuses on what you have learned in the Unsupervised Machine\n",
    "Learning notes. Use the following link to source your data for the exercise on Sales Conversion\n",
    "Optimization: https://www.kaggle.com/loveall/clicks-conversion-tracking."
   ]
  },
  {
   "cell_type": "markdown",
   "metadata": {},
   "source": [
    "***"
   ]
  },
  {
   "cell_type": "markdown",
   "metadata": {},
   "source": [
    "### 1. Import the libraries and load the data."
   ]
  },
  {
   "cell_type": "code",
   "execution_count": 38,
   "metadata": {},
   "outputs": [],
   "source": [
    "import pandas as pd\n",
    "import matplotlib.pyplot as plt\n",
    "import seaborn as sns; sns.set_theme\n",
    "%matplotlib inline"
   ]
  },
  {
   "cell_type": "code",
   "execution_count": 2,
   "metadata": {},
   "outputs": [],
   "source": [
    "df = pd.read_csv('KAG_conversion_data.csv')"
   ]
  },
  {
   "cell_type": "code",
   "execution_count": 3,
   "metadata": {},
   "outputs": [
    {
     "data": {
      "text/html": [
       "<div>\n",
       "<style scoped>\n",
       "    .dataframe tbody tr th:only-of-type {\n",
       "        vertical-align: middle;\n",
       "    }\n",
       "\n",
       "    .dataframe tbody tr th {\n",
       "        vertical-align: top;\n",
       "    }\n",
       "\n",
       "    .dataframe thead th {\n",
       "        text-align: right;\n",
       "    }\n",
       "</style>\n",
       "<table border=\"1\" class=\"dataframe\">\n",
       "  <thead>\n",
       "    <tr style=\"text-align: right;\">\n",
       "      <th></th>\n",
       "      <th>ad_id</th>\n",
       "      <th>xyz_campaign_id</th>\n",
       "      <th>fb_campaign_id</th>\n",
       "      <th>age</th>\n",
       "      <th>gender</th>\n",
       "      <th>interest</th>\n",
       "      <th>Impressions</th>\n",
       "      <th>Clicks</th>\n",
       "      <th>Spent</th>\n",
       "      <th>Total_Conversion</th>\n",
       "      <th>Approved_Conversion</th>\n",
       "    </tr>\n",
       "  </thead>\n",
       "  <tbody>\n",
       "    <tr>\n",
       "      <th>0</th>\n",
       "      <td>708746</td>\n",
       "      <td>916</td>\n",
       "      <td>103916</td>\n",
       "      <td>30-34</td>\n",
       "      <td>M</td>\n",
       "      <td>15</td>\n",
       "      <td>7350</td>\n",
       "      <td>1</td>\n",
       "      <td>1.43</td>\n",
       "      <td>2</td>\n",
       "      <td>1</td>\n",
       "    </tr>\n",
       "    <tr>\n",
       "      <th>1</th>\n",
       "      <td>708749</td>\n",
       "      <td>916</td>\n",
       "      <td>103917</td>\n",
       "      <td>30-34</td>\n",
       "      <td>M</td>\n",
       "      <td>16</td>\n",
       "      <td>17861</td>\n",
       "      <td>2</td>\n",
       "      <td>1.82</td>\n",
       "      <td>2</td>\n",
       "      <td>0</td>\n",
       "    </tr>\n",
       "    <tr>\n",
       "      <th>2</th>\n",
       "      <td>708771</td>\n",
       "      <td>916</td>\n",
       "      <td>103920</td>\n",
       "      <td>30-34</td>\n",
       "      <td>M</td>\n",
       "      <td>20</td>\n",
       "      <td>693</td>\n",
       "      <td>0</td>\n",
       "      <td>0.00</td>\n",
       "      <td>1</td>\n",
       "      <td>0</td>\n",
       "    </tr>\n",
       "    <tr>\n",
       "      <th>3</th>\n",
       "      <td>708815</td>\n",
       "      <td>916</td>\n",
       "      <td>103928</td>\n",
       "      <td>30-34</td>\n",
       "      <td>M</td>\n",
       "      <td>28</td>\n",
       "      <td>4259</td>\n",
       "      <td>1</td>\n",
       "      <td>1.25</td>\n",
       "      <td>1</td>\n",
       "      <td>0</td>\n",
       "    </tr>\n",
       "    <tr>\n",
       "      <th>4</th>\n",
       "      <td>708818</td>\n",
       "      <td>916</td>\n",
       "      <td>103928</td>\n",
       "      <td>30-34</td>\n",
       "      <td>M</td>\n",
       "      <td>28</td>\n",
       "      <td>4133</td>\n",
       "      <td>1</td>\n",
       "      <td>1.29</td>\n",
       "      <td>1</td>\n",
       "      <td>1</td>\n",
       "    </tr>\n",
       "  </tbody>\n",
       "</table>\n",
       "</div>"
      ],
      "text/plain": [
       "    ad_id  xyz_campaign_id  fb_campaign_id    age gender  interest  \\\n",
       "0  708746              916          103916  30-34      M        15   \n",
       "1  708749              916          103917  30-34      M        16   \n",
       "2  708771              916          103920  30-34      M        20   \n",
       "3  708815              916          103928  30-34      M        28   \n",
       "4  708818              916          103928  30-34      M        28   \n",
       "\n",
       "   Impressions  Clicks  Spent  Total_Conversion  Approved_Conversion  \n",
       "0         7350       1   1.43                 2                    1  \n",
       "1        17861       2   1.82                 2                    0  \n",
       "2          693       0   0.00                 1                    0  \n",
       "3         4259       1   1.25                 1                    0  \n",
       "4         4133       1   1.29                 1                    1  "
      ]
     },
     "execution_count": 3,
     "metadata": {},
     "output_type": "execute_result"
    }
   ],
   "source": [
    "df.head()"
   ]
  },
  {
   "cell_type": "code",
   "execution_count": 4,
   "metadata": {},
   "outputs": [
    {
     "data": {
      "text/plain": [
       "ad_id                  0\n",
       "xyz_campaign_id        0\n",
       "fb_campaign_id         0\n",
       "age                    0\n",
       "gender                 0\n",
       "interest               0\n",
       "Impressions            0\n",
       "Clicks                 0\n",
       "Spent                  0\n",
       "Total_Conversion       0\n",
       "Approved_Conversion    0\n",
       "dtype: int64"
      ]
     },
     "execution_count": 4,
     "metadata": {},
     "output_type": "execute_result"
    }
   ],
   "source": [
    "df.isnull().sum()"
   ]
  },
  {
   "cell_type": "markdown",
   "metadata": {},
   "source": [
    "### 2. Dummy encode any categorical or object values in the data and save the resulting data frame to variable X."
   ]
  },
  {
   "cell_type": "code",
   "execution_count": 5,
   "metadata": {},
   "outputs": [
    {
     "name": "stdout",
     "output_type": "stream",
     "text": [
      "<class 'pandas.core.frame.DataFrame'>\n",
      "RangeIndex: 1143 entries, 0 to 1142\n",
      "Data columns (total 11 columns):\n",
      " #   Column               Non-Null Count  Dtype  \n",
      "---  ------               --------------  -----  \n",
      " 0   ad_id                1143 non-null   int64  \n",
      " 1   xyz_campaign_id      1143 non-null   int64  \n",
      " 2   fb_campaign_id       1143 non-null   int64  \n",
      " 3   age                  1143 non-null   object \n",
      " 4   gender               1143 non-null   object \n",
      " 5   interest             1143 non-null   int64  \n",
      " 6   Impressions          1143 non-null   int64  \n",
      " 7   Clicks               1143 non-null   int64  \n",
      " 8   Spent                1143 non-null   float64\n",
      " 9   Total_Conversion     1143 non-null   int64  \n",
      " 10  Approved_Conversion  1143 non-null   int64  \n",
      "dtypes: float64(1), int64(8), object(2)\n",
      "memory usage: 98.4+ KB\n"
     ]
    }
   ],
   "source": [
    "df.info()"
   ]
  },
  {
   "cell_type": "code",
   "execution_count": 6,
   "metadata": {},
   "outputs": [],
   "source": [
    "X = pd.get_dummies(df)"
   ]
  },
  {
   "cell_type": "code",
   "execution_count": 7,
   "metadata": {},
   "outputs": [
    {
     "data": {
      "text/html": [
       "<div>\n",
       "<style scoped>\n",
       "    .dataframe tbody tr th:only-of-type {\n",
       "        vertical-align: middle;\n",
       "    }\n",
       "\n",
       "    .dataframe tbody tr th {\n",
       "        vertical-align: top;\n",
       "    }\n",
       "\n",
       "    .dataframe thead th {\n",
       "        text-align: right;\n",
       "    }\n",
       "</style>\n",
       "<table border=\"1\" class=\"dataframe\">\n",
       "  <thead>\n",
       "    <tr style=\"text-align: right;\">\n",
       "      <th></th>\n",
       "      <th>ad_id</th>\n",
       "      <th>xyz_campaign_id</th>\n",
       "      <th>fb_campaign_id</th>\n",
       "      <th>interest</th>\n",
       "      <th>Impressions</th>\n",
       "      <th>Clicks</th>\n",
       "      <th>Spent</th>\n",
       "      <th>Total_Conversion</th>\n",
       "      <th>Approved_Conversion</th>\n",
       "      <th>age_30-34</th>\n",
       "      <th>age_35-39</th>\n",
       "      <th>age_40-44</th>\n",
       "      <th>age_45-49</th>\n",
       "      <th>gender_F</th>\n",
       "      <th>gender_M</th>\n",
       "    </tr>\n",
       "  </thead>\n",
       "  <tbody>\n",
       "    <tr>\n",
       "      <th>0</th>\n",
       "      <td>708746</td>\n",
       "      <td>916</td>\n",
       "      <td>103916</td>\n",
       "      <td>15</td>\n",
       "      <td>7350</td>\n",
       "      <td>1</td>\n",
       "      <td>1.43</td>\n",
       "      <td>2</td>\n",
       "      <td>1</td>\n",
       "      <td>1</td>\n",
       "      <td>0</td>\n",
       "      <td>0</td>\n",
       "      <td>0</td>\n",
       "      <td>0</td>\n",
       "      <td>1</td>\n",
       "    </tr>\n",
       "    <tr>\n",
       "      <th>1</th>\n",
       "      <td>708749</td>\n",
       "      <td>916</td>\n",
       "      <td>103917</td>\n",
       "      <td>16</td>\n",
       "      <td>17861</td>\n",
       "      <td>2</td>\n",
       "      <td>1.82</td>\n",
       "      <td>2</td>\n",
       "      <td>0</td>\n",
       "      <td>1</td>\n",
       "      <td>0</td>\n",
       "      <td>0</td>\n",
       "      <td>0</td>\n",
       "      <td>0</td>\n",
       "      <td>1</td>\n",
       "    </tr>\n",
       "    <tr>\n",
       "      <th>2</th>\n",
       "      <td>708771</td>\n",
       "      <td>916</td>\n",
       "      <td>103920</td>\n",
       "      <td>20</td>\n",
       "      <td>693</td>\n",
       "      <td>0</td>\n",
       "      <td>0.00</td>\n",
       "      <td>1</td>\n",
       "      <td>0</td>\n",
       "      <td>1</td>\n",
       "      <td>0</td>\n",
       "      <td>0</td>\n",
       "      <td>0</td>\n",
       "      <td>0</td>\n",
       "      <td>1</td>\n",
       "    </tr>\n",
       "    <tr>\n",
       "      <th>3</th>\n",
       "      <td>708815</td>\n",
       "      <td>916</td>\n",
       "      <td>103928</td>\n",
       "      <td>28</td>\n",
       "      <td>4259</td>\n",
       "      <td>1</td>\n",
       "      <td>1.25</td>\n",
       "      <td>1</td>\n",
       "      <td>0</td>\n",
       "      <td>1</td>\n",
       "      <td>0</td>\n",
       "      <td>0</td>\n",
       "      <td>0</td>\n",
       "      <td>0</td>\n",
       "      <td>1</td>\n",
       "    </tr>\n",
       "    <tr>\n",
       "      <th>4</th>\n",
       "      <td>708818</td>\n",
       "      <td>916</td>\n",
       "      <td>103928</td>\n",
       "      <td>28</td>\n",
       "      <td>4133</td>\n",
       "      <td>1</td>\n",
       "      <td>1.29</td>\n",
       "      <td>1</td>\n",
       "      <td>1</td>\n",
       "      <td>1</td>\n",
       "      <td>0</td>\n",
       "      <td>0</td>\n",
       "      <td>0</td>\n",
       "      <td>0</td>\n",
       "      <td>1</td>\n",
       "    </tr>\n",
       "  </tbody>\n",
       "</table>\n",
       "</div>"
      ],
      "text/plain": [
       "    ad_id  xyz_campaign_id  fb_campaign_id  interest  Impressions  Clicks  \\\n",
       "0  708746              916          103916        15         7350       1   \n",
       "1  708749              916          103917        16        17861       2   \n",
       "2  708771              916          103920        20          693       0   \n",
       "3  708815              916          103928        28         4259       1   \n",
       "4  708818              916          103928        28         4133       1   \n",
       "\n",
       "   Spent  Total_Conversion  Approved_Conversion  age_30-34  age_35-39  \\\n",
       "0   1.43                 2                    1          1          0   \n",
       "1   1.82                 2                    0          1          0   \n",
       "2   0.00                 1                    0          1          0   \n",
       "3   1.25                 1                    0          1          0   \n",
       "4   1.29                 1                    1          1          0   \n",
       "\n",
       "   age_40-44  age_45-49  gender_F  gender_M  \n",
       "0          0          0         0         1  \n",
       "1          0          0         0         1  \n",
       "2          0          0         0         1  \n",
       "3          0          0         0         1  \n",
       "4          0          0         0         1  "
      ]
     },
     "execution_count": 7,
     "metadata": {},
     "output_type": "execute_result"
    }
   ],
   "source": [
    "X.head()"
   ]
  },
  {
   "cell_type": "code",
   "execution_count": 8,
   "metadata": {},
   "outputs": [
    {
     "name": "stdout",
     "output_type": "stream",
     "text": [
      "<class 'pandas.core.frame.DataFrame'>\n",
      "RangeIndex: 1143 entries, 0 to 1142\n",
      "Data columns (total 15 columns):\n",
      " #   Column               Non-Null Count  Dtype  \n",
      "---  ------               --------------  -----  \n",
      " 0   ad_id                1143 non-null   int64  \n",
      " 1   xyz_campaign_id      1143 non-null   int64  \n",
      " 2   fb_campaign_id       1143 non-null   int64  \n",
      " 3   interest             1143 non-null   int64  \n",
      " 4   Impressions          1143 non-null   int64  \n",
      " 5   Clicks               1143 non-null   int64  \n",
      " 6   Spent                1143 non-null   float64\n",
      " 7   Total_Conversion     1143 non-null   int64  \n",
      " 8   Approved_Conversion  1143 non-null   int64  \n",
      " 9   age_30-34            1143 non-null   uint8  \n",
      " 10  age_35-39            1143 non-null   uint8  \n",
      " 11  age_40-44            1143 non-null   uint8  \n",
      " 12  age_45-49            1143 non-null   uint8  \n",
      " 13  gender_F             1143 non-null   uint8  \n",
      " 14  gender_M             1143 non-null   uint8  \n",
      "dtypes: float64(1), int64(8), uint8(6)\n",
      "memory usage: 87.2 KB\n"
     ]
    }
   ],
   "source": [
    "X.info()"
   ]
  },
  {
   "cell_type": "markdown",
   "metadata": {},
   "source": [
    "### 3. Using a heat map to show the correlation in the data:\n",
    "    a. Drop the first 4 columns in the data frame X.\n",
    "    b. Basing your answer on what can be seen in the heat map, why did we drop these columns?"
   ]
  },
  {
   "cell_type": "code",
   "execution_count": 9,
   "metadata": {},
   "outputs": [
    {
     "data": {
      "text/html": [
       "<div>\n",
       "<style scoped>\n",
       "    .dataframe tbody tr th:only-of-type {\n",
       "        vertical-align: middle;\n",
       "    }\n",
       "\n",
       "    .dataframe tbody tr th {\n",
       "        vertical-align: top;\n",
       "    }\n",
       "\n",
       "    .dataframe thead th {\n",
       "        text-align: right;\n",
       "    }\n",
       "</style>\n",
       "<table border=\"1\" class=\"dataframe\">\n",
       "  <thead>\n",
       "    <tr style=\"text-align: right;\">\n",
       "      <th></th>\n",
       "      <th>ad_id</th>\n",
       "      <th>xyz_campaign_id</th>\n",
       "      <th>fb_campaign_id</th>\n",
       "      <th>interest</th>\n",
       "      <th>Impressions</th>\n",
       "      <th>Clicks</th>\n",
       "      <th>Spent</th>\n",
       "      <th>Total_Conversion</th>\n",
       "      <th>Approved_Conversion</th>\n",
       "      <th>age_30-34</th>\n",
       "      <th>age_35-39</th>\n",
       "      <th>age_40-44</th>\n",
       "      <th>age_45-49</th>\n",
       "      <th>gender_F</th>\n",
       "      <th>gender_M</th>\n",
       "    </tr>\n",
       "  </thead>\n",
       "  <tbody>\n",
       "    <tr>\n",
       "      <th>ad_id</th>\n",
       "      <td>1.000000</td>\n",
       "      <td>0.929892</td>\n",
       "      <td>0.972002</td>\n",
       "      <td>0.456483</td>\n",
       "      <td>0.462308</td>\n",
       "      <td>0.431981</td>\n",
       "      <td>0.433053</td>\n",
       "      <td>0.346539</td>\n",
       "      <td>0.271331</td>\n",
       "      <td>-0.115297</td>\n",
       "      <td>0.045434</td>\n",
       "      <td>0.063397</td>\n",
       "      <td>0.029789</td>\n",
       "      <td>-0.058324</td>\n",
       "      <td>0.058324</td>\n",
       "    </tr>\n",
       "    <tr>\n",
       "      <th>xyz_campaign_id</th>\n",
       "      <td>0.929892</td>\n",
       "      <td>1.000000</td>\n",
       "      <td>0.872392</td>\n",
       "      <td>0.272282</td>\n",
       "      <td>0.495273</td>\n",
       "      <td>0.469729</td>\n",
       "      <td>0.476689</td>\n",
       "      <td>0.346684</td>\n",
       "      <td>0.284968</td>\n",
       "      <td>-0.117677</td>\n",
       "      <td>0.048032</td>\n",
       "      <td>0.065182</td>\n",
       "      <td>0.028329</td>\n",
       "      <td>-0.086118</td>\n",
       "      <td>0.086118</td>\n",
       "    </tr>\n",
       "    <tr>\n",
       "      <th>fb_campaign_id</th>\n",
       "      <td>0.972002</td>\n",
       "      <td>0.872392</td>\n",
       "      <td>1.000000</td>\n",
       "      <td>0.595753</td>\n",
       "      <td>0.439439</td>\n",
       "      <td>0.406978</td>\n",
       "      <td>0.403532</td>\n",
       "      <td>0.344170</td>\n",
       "      <td>0.257658</td>\n",
       "      <td>-0.124770</td>\n",
       "      <td>0.041082</td>\n",
       "      <td>0.075093</td>\n",
       "      <td>0.034196</td>\n",
       "      <td>-0.038037</td>\n",
       "      <td>0.038037</td>\n",
       "    </tr>\n",
       "    <tr>\n",
       "      <th>interest</th>\n",
       "      <td>0.456483</td>\n",
       "      <td>0.272282</td>\n",
       "      <td>0.595753</td>\n",
       "      <td>1.000000</td>\n",
       "      <td>0.101973</td>\n",
       "      <td>0.088706</td>\n",
       "      <td>0.070226</td>\n",
       "      <td>0.120270</td>\n",
       "      <td>0.058353</td>\n",
       "      <td>-0.055644</td>\n",
       "      <td>0.021583</td>\n",
       "      <td>0.029271</td>\n",
       "      <td>0.015942</td>\n",
       "      <td>0.047230</td>\n",
       "      <td>-0.047230</td>\n",
       "    </tr>\n",
       "    <tr>\n",
       "      <th>Impressions</th>\n",
       "      <td>0.462308</td>\n",
       "      <td>0.495273</td>\n",
       "      <td>0.439439</td>\n",
       "      <td>0.101973</td>\n",
       "      <td>1.000000</td>\n",
       "      <td>0.948514</td>\n",
       "      <td>0.970386</td>\n",
       "      <td>0.812838</td>\n",
       "      <td>0.684249</td>\n",
       "      <td>-0.066877</td>\n",
       "      <td>-0.028549</td>\n",
       "      <td>0.002822</td>\n",
       "      <td>0.102743</td>\n",
       "      <td>0.067059</td>\n",
       "      <td>-0.067059</td>\n",
       "    </tr>\n",
       "    <tr>\n",
       "      <th>Clicks</th>\n",
       "      <td>0.431981</td>\n",
       "      <td>0.469729</td>\n",
       "      <td>0.406978</td>\n",
       "      <td>0.088706</td>\n",
       "      <td>0.948514</td>\n",
       "      <td>1.000000</td>\n",
       "      <td>0.992906</td>\n",
       "      <td>0.694632</td>\n",
       "      <td>0.559526</td>\n",
       "      <td>-0.150856</td>\n",
       "      <td>-0.044296</td>\n",
       "      <td>0.028765</td>\n",
       "      <td>0.191246</td>\n",
       "      <td>0.168725</td>\n",
       "      <td>-0.168725</td>\n",
       "    </tr>\n",
       "    <tr>\n",
       "      <th>Spent</th>\n",
       "      <td>0.433053</td>\n",
       "      <td>0.476689</td>\n",
       "      <td>0.403532</td>\n",
       "      <td>0.070226</td>\n",
       "      <td>0.970386</td>\n",
       "      <td>0.992906</td>\n",
       "      <td>1.000000</td>\n",
       "      <td>0.725379</td>\n",
       "      <td>0.593178</td>\n",
       "      <td>-0.138037</td>\n",
       "      <td>-0.039705</td>\n",
       "      <td>0.020909</td>\n",
       "      <td>0.179187</td>\n",
       "      <td>0.125022</td>\n",
       "      <td>-0.125022</td>\n",
       "    </tr>\n",
       "    <tr>\n",
       "      <th>Total_Conversion</th>\n",
       "      <td>0.346539</td>\n",
       "      <td>0.346684</td>\n",
       "      <td>0.344170</td>\n",
       "      <td>0.120270</td>\n",
       "      <td>0.812838</td>\n",
       "      <td>0.694632</td>\n",
       "      <td>0.725379</td>\n",
       "      <td>1.000000</td>\n",
       "      <td>0.864034</td>\n",
       "      <td>0.086600</td>\n",
       "      <td>-0.038931</td>\n",
       "      <td>-0.038657</td>\n",
       "      <td>-0.025933</td>\n",
       "      <td>0.027559</td>\n",
       "      <td>-0.027559</td>\n",
       "    </tr>\n",
       "    <tr>\n",
       "      <th>Approved_Conversion</th>\n",
       "      <td>0.271331</td>\n",
       "      <td>0.284968</td>\n",
       "      <td>0.257658</td>\n",
       "      <td>0.058353</td>\n",
       "      <td>0.684249</td>\n",
       "      <td>0.559526</td>\n",
       "      <td>0.593178</td>\n",
       "      <td>0.864034</td>\n",
       "      <td>1.000000</td>\n",
       "      <td>0.095685</td>\n",
       "      <td>-0.033133</td>\n",
       "      <td>-0.036732</td>\n",
       "      <td>-0.043914</td>\n",
       "      <td>-0.025350</td>\n",
       "      <td>0.025350</td>\n",
       "    </tr>\n",
       "    <tr>\n",
       "      <th>age_30-34</th>\n",
       "      <td>-0.115297</td>\n",
       "      <td>-0.117677</td>\n",
       "      <td>-0.124770</td>\n",
       "      <td>-0.055644</td>\n",
       "      <td>-0.066877</td>\n",
       "      <td>-0.150856</td>\n",
       "      <td>-0.138037</td>\n",
       "      <td>0.086600</td>\n",
       "      <td>0.095685</td>\n",
       "      <td>1.000000</td>\n",
       "      <td>-0.405751</td>\n",
       "      <td>-0.365691</td>\n",
       "      <td>-0.417224</td>\n",
       "      <td>-0.030271</td>\n",
       "      <td>0.030271</td>\n",
       "    </tr>\n",
       "    <tr>\n",
       "      <th>age_35-39</th>\n",
       "      <td>0.045434</td>\n",
       "      <td>0.048032</td>\n",
       "      <td>0.041082</td>\n",
       "      <td>0.021583</td>\n",
       "      <td>-0.028549</td>\n",
       "      <td>-0.044296</td>\n",
       "      <td>-0.039705</td>\n",
       "      <td>-0.038931</td>\n",
       "      <td>-0.033133</td>\n",
       "      <td>-0.405751</td>\n",
       "      <td>1.000000</td>\n",
       "      <td>-0.249737</td>\n",
       "      <td>-0.284930</td>\n",
       "      <td>-0.044824</td>\n",
       "      <td>0.044824</td>\n",
       "    </tr>\n",
       "    <tr>\n",
       "      <th>age_40-44</th>\n",
       "      <td>0.063397</td>\n",
       "      <td>0.065182</td>\n",
       "      <td>0.075093</td>\n",
       "      <td>0.029271</td>\n",
       "      <td>0.002822</td>\n",
       "      <td>0.028765</td>\n",
       "      <td>0.020909</td>\n",
       "      <td>-0.038657</td>\n",
       "      <td>-0.036732</td>\n",
       "      <td>-0.365691</td>\n",
       "      <td>-0.249737</td>\n",
       "      <td>1.000000</td>\n",
       "      <td>-0.256799</td>\n",
       "      <td>0.026071</td>\n",
       "      <td>-0.026071</td>\n",
       "    </tr>\n",
       "    <tr>\n",
       "      <th>age_45-49</th>\n",
       "      <td>0.029789</td>\n",
       "      <td>0.028329</td>\n",
       "      <td>0.034196</td>\n",
       "      <td>0.015942</td>\n",
       "      <td>0.102743</td>\n",
       "      <td>0.191246</td>\n",
       "      <td>0.179187</td>\n",
       "      <td>-0.025933</td>\n",
       "      <td>-0.043914</td>\n",
       "      <td>-0.417224</td>\n",
       "      <td>-0.284930</td>\n",
       "      <td>-0.256799</td>\n",
       "      <td>1.000000</td>\n",
       "      <td>0.054980</td>\n",
       "      <td>-0.054980</td>\n",
       "    </tr>\n",
       "    <tr>\n",
       "      <th>gender_F</th>\n",
       "      <td>-0.058324</td>\n",
       "      <td>-0.086118</td>\n",
       "      <td>-0.038037</td>\n",
       "      <td>0.047230</td>\n",
       "      <td>0.067059</td>\n",
       "      <td>0.168725</td>\n",
       "      <td>0.125022</td>\n",
       "      <td>0.027559</td>\n",
       "      <td>-0.025350</td>\n",
       "      <td>-0.030271</td>\n",
       "      <td>-0.044824</td>\n",
       "      <td>0.026071</td>\n",
       "      <td>0.054980</td>\n",
       "      <td>1.000000</td>\n",
       "      <td>-1.000000</td>\n",
       "    </tr>\n",
       "    <tr>\n",
       "      <th>gender_M</th>\n",
       "      <td>0.058324</td>\n",
       "      <td>0.086118</td>\n",
       "      <td>0.038037</td>\n",
       "      <td>-0.047230</td>\n",
       "      <td>-0.067059</td>\n",
       "      <td>-0.168725</td>\n",
       "      <td>-0.125022</td>\n",
       "      <td>-0.027559</td>\n",
       "      <td>0.025350</td>\n",
       "      <td>0.030271</td>\n",
       "      <td>0.044824</td>\n",
       "      <td>-0.026071</td>\n",
       "      <td>-0.054980</td>\n",
       "      <td>-1.000000</td>\n",
       "      <td>1.000000</td>\n",
       "    </tr>\n",
       "  </tbody>\n",
       "</table>\n",
       "</div>"
      ],
      "text/plain": [
       "                        ad_id  xyz_campaign_id  fb_campaign_id  interest  \\\n",
       "ad_id                1.000000         0.929892        0.972002  0.456483   \n",
       "xyz_campaign_id      0.929892         1.000000        0.872392  0.272282   \n",
       "fb_campaign_id       0.972002         0.872392        1.000000  0.595753   \n",
       "interest             0.456483         0.272282        0.595753  1.000000   \n",
       "Impressions          0.462308         0.495273        0.439439  0.101973   \n",
       "Clicks               0.431981         0.469729        0.406978  0.088706   \n",
       "Spent                0.433053         0.476689        0.403532  0.070226   \n",
       "Total_Conversion     0.346539         0.346684        0.344170  0.120270   \n",
       "Approved_Conversion  0.271331         0.284968        0.257658  0.058353   \n",
       "age_30-34           -0.115297        -0.117677       -0.124770 -0.055644   \n",
       "age_35-39            0.045434         0.048032        0.041082  0.021583   \n",
       "age_40-44            0.063397         0.065182        0.075093  0.029271   \n",
       "age_45-49            0.029789         0.028329        0.034196  0.015942   \n",
       "gender_F            -0.058324        -0.086118       -0.038037  0.047230   \n",
       "gender_M             0.058324         0.086118        0.038037 -0.047230   \n",
       "\n",
       "                     Impressions    Clicks     Spent  Total_Conversion  \\\n",
       "ad_id                   0.462308  0.431981  0.433053          0.346539   \n",
       "xyz_campaign_id         0.495273  0.469729  0.476689          0.346684   \n",
       "fb_campaign_id          0.439439  0.406978  0.403532          0.344170   \n",
       "interest                0.101973  0.088706  0.070226          0.120270   \n",
       "Impressions             1.000000  0.948514  0.970386          0.812838   \n",
       "Clicks                  0.948514  1.000000  0.992906          0.694632   \n",
       "Spent                   0.970386  0.992906  1.000000          0.725379   \n",
       "Total_Conversion        0.812838  0.694632  0.725379          1.000000   \n",
       "Approved_Conversion     0.684249  0.559526  0.593178          0.864034   \n",
       "age_30-34              -0.066877 -0.150856 -0.138037          0.086600   \n",
       "age_35-39              -0.028549 -0.044296 -0.039705         -0.038931   \n",
       "age_40-44               0.002822  0.028765  0.020909         -0.038657   \n",
       "age_45-49               0.102743  0.191246  0.179187         -0.025933   \n",
       "gender_F                0.067059  0.168725  0.125022          0.027559   \n",
       "gender_M               -0.067059 -0.168725 -0.125022         -0.027559   \n",
       "\n",
       "                     Approved_Conversion  age_30-34  age_35-39  age_40-44  \\\n",
       "ad_id                           0.271331  -0.115297   0.045434   0.063397   \n",
       "xyz_campaign_id                 0.284968  -0.117677   0.048032   0.065182   \n",
       "fb_campaign_id                  0.257658  -0.124770   0.041082   0.075093   \n",
       "interest                        0.058353  -0.055644   0.021583   0.029271   \n",
       "Impressions                     0.684249  -0.066877  -0.028549   0.002822   \n",
       "Clicks                          0.559526  -0.150856  -0.044296   0.028765   \n",
       "Spent                           0.593178  -0.138037  -0.039705   0.020909   \n",
       "Total_Conversion                0.864034   0.086600  -0.038931  -0.038657   \n",
       "Approved_Conversion             1.000000   0.095685  -0.033133  -0.036732   \n",
       "age_30-34                       0.095685   1.000000  -0.405751  -0.365691   \n",
       "age_35-39                      -0.033133  -0.405751   1.000000  -0.249737   \n",
       "age_40-44                      -0.036732  -0.365691  -0.249737   1.000000   \n",
       "age_45-49                      -0.043914  -0.417224  -0.284930  -0.256799   \n",
       "gender_F                       -0.025350  -0.030271  -0.044824   0.026071   \n",
       "gender_M                        0.025350   0.030271   0.044824  -0.026071   \n",
       "\n",
       "                     age_45-49  gender_F  gender_M  \n",
       "ad_id                 0.029789 -0.058324  0.058324  \n",
       "xyz_campaign_id       0.028329 -0.086118  0.086118  \n",
       "fb_campaign_id        0.034196 -0.038037  0.038037  \n",
       "interest              0.015942  0.047230 -0.047230  \n",
       "Impressions           0.102743  0.067059 -0.067059  \n",
       "Clicks                0.191246  0.168725 -0.168725  \n",
       "Spent                 0.179187  0.125022 -0.125022  \n",
       "Total_Conversion     -0.025933  0.027559 -0.027559  \n",
       "Approved_Conversion  -0.043914 -0.025350  0.025350  \n",
       "age_30-34            -0.417224 -0.030271  0.030271  \n",
       "age_35-39            -0.284930 -0.044824  0.044824  \n",
       "age_40-44            -0.256799  0.026071 -0.026071  \n",
       "age_45-49             1.000000  0.054980 -0.054980  \n",
       "gender_F              0.054980  1.000000 -1.000000  \n",
       "gender_M             -0.054980 -1.000000  1.000000  "
      ]
     },
     "execution_count": 9,
     "metadata": {},
     "output_type": "execute_result"
    }
   ],
   "source": [
    "X.corr()"
   ]
  },
  {
   "cell_type": "code",
   "execution_count": 10,
   "metadata": {},
   "outputs": [
    {
     "data": {
      "text/plain": [
       "<matplotlib.axes._subplots.AxesSubplot at 0x1cc8f4d1eb0>"
      ]
     },
     "execution_count": 10,
     "metadata": {},
     "output_type": "execute_result"
    },
    {
     "data": {
      "image/png": "[encoded data removed]",
      "text/plain": [
       "<Figure size 864x504 with 2 Axes>"
      ]
     },
     "metadata": {
      "needs_background": "light"
     },
     "output_type": "display_data"
    }
   ],
   "source": [
    "plt.subplots(figsize=(12, 7))\n",
    "sns.heatmap(X.corr())"
   ]
  },
  {
   "cell_type": "code",
   "execution_count": 11,
   "metadata": {},
   "outputs": [
    {
     "data": {
      "text/html": [
       "<div>\n",
       "<style scoped>\n",
       "    .dataframe tbody tr th:only-of-type {\n",
       "        vertical-align: middle;\n",
       "    }\n",
       "\n",
       "    .dataframe tbody tr th {\n",
       "        vertical-align: top;\n",
       "    }\n",
       "\n",
       "    .dataframe thead th {\n",
       "        text-align: right;\n",
       "    }\n",
       "</style>\n",
       "<table border=\"1\" class=\"dataframe\">\n",
       "  <thead>\n",
       "    <tr style=\"text-align: right;\">\n",
       "      <th></th>\n",
       "      <th>Impressions</th>\n",
       "      <th>Clicks</th>\n",
       "      <th>Spent</th>\n",
       "      <th>Total_Conversion</th>\n",
       "      <th>Approved_Conversion</th>\n",
       "      <th>age_30-34</th>\n",
       "      <th>age_35-39</th>\n",
       "      <th>age_40-44</th>\n",
       "      <th>age_45-49</th>\n",
       "      <th>gender_F</th>\n",
       "      <th>gender_M</th>\n",
       "    </tr>\n",
       "  </thead>\n",
       "  <tbody>\n",
       "    <tr>\n",
       "      <th>Impressions</th>\n",
       "      <td>1.000000</td>\n",
       "      <td>0.948514</td>\n",
       "      <td>0.970386</td>\n",
       "      <td>0.812838</td>\n",
       "      <td>0.684249</td>\n",
       "      <td>-0.066877</td>\n",
       "      <td>-0.028549</td>\n",
       "      <td>0.002822</td>\n",
       "      <td>0.102743</td>\n",
       "      <td>0.067059</td>\n",
       "      <td>-0.067059</td>\n",
       "    </tr>\n",
       "    <tr>\n",
       "      <th>Clicks</th>\n",
       "      <td>0.948514</td>\n",
       "      <td>1.000000</td>\n",
       "      <td>0.992906</td>\n",
       "      <td>0.694632</td>\n",
       "      <td>0.559526</td>\n",
       "      <td>-0.150856</td>\n",
       "      <td>-0.044296</td>\n",
       "      <td>0.028765</td>\n",
       "      <td>0.191246</td>\n",
       "      <td>0.168725</td>\n",
       "      <td>-0.168725</td>\n",
       "    </tr>\n",
       "    <tr>\n",
       "      <th>Spent</th>\n",
       "      <td>0.970386</td>\n",
       "      <td>0.992906</td>\n",
       "      <td>1.000000</td>\n",
       "      <td>0.725379</td>\n",
       "      <td>0.593178</td>\n",
       "      <td>-0.138037</td>\n",
       "      <td>-0.039705</td>\n",
       "      <td>0.020909</td>\n",
       "      <td>0.179187</td>\n",
       "      <td>0.125022</td>\n",
       "      <td>-0.125022</td>\n",
       "    </tr>\n",
       "    <tr>\n",
       "      <th>Total_Conversion</th>\n",
       "      <td>0.812838</td>\n",
       "      <td>0.694632</td>\n",
       "      <td>0.725379</td>\n",
       "      <td>1.000000</td>\n",
       "      <td>0.864034</td>\n",
       "      <td>0.086600</td>\n",
       "      <td>-0.038931</td>\n",
       "      <td>-0.038657</td>\n",
       "      <td>-0.025933</td>\n",
       "      <td>0.027559</td>\n",
       "      <td>-0.027559</td>\n",
       "    </tr>\n",
       "    <tr>\n",
       "      <th>Approved_Conversion</th>\n",
       "      <td>0.684249</td>\n",
       "      <td>0.559526</td>\n",
       "      <td>0.593178</td>\n",
       "      <td>0.864034</td>\n",
       "      <td>1.000000</td>\n",
       "      <td>0.095685</td>\n",
       "      <td>-0.033133</td>\n",
       "      <td>-0.036732</td>\n",
       "      <td>-0.043914</td>\n",
       "      <td>-0.025350</td>\n",
       "      <td>0.025350</td>\n",
       "    </tr>\n",
       "    <tr>\n",
       "      <th>age_30-34</th>\n",
       "      <td>-0.066877</td>\n",
       "      <td>-0.150856</td>\n",
       "      <td>-0.138037</td>\n",
       "      <td>0.086600</td>\n",
       "      <td>0.095685</td>\n",
       "      <td>1.000000</td>\n",
       "      <td>-0.405751</td>\n",
       "      <td>-0.365691</td>\n",
       "      <td>-0.417224</td>\n",
       "      <td>-0.030271</td>\n",
       "      <td>0.030271</td>\n",
       "    </tr>\n",
       "    <tr>\n",
       "      <th>age_35-39</th>\n",
       "      <td>-0.028549</td>\n",
       "      <td>-0.044296</td>\n",
       "      <td>-0.039705</td>\n",
       "      <td>-0.038931</td>\n",
       "      <td>-0.033133</td>\n",
       "      <td>-0.405751</td>\n",
       "      <td>1.000000</td>\n",
       "      <td>-0.249737</td>\n",
       "      <td>-0.284930</td>\n",
       "      <td>-0.044824</td>\n",
       "      <td>0.044824</td>\n",
       "    </tr>\n",
       "    <tr>\n",
       "      <th>age_40-44</th>\n",
       "      <td>0.002822</td>\n",
       "      <td>0.028765</td>\n",
       "      <td>0.020909</td>\n",
       "      <td>-0.038657</td>\n",
       "      <td>-0.036732</td>\n",
       "      <td>-0.365691</td>\n",
       "      <td>-0.249737</td>\n",
       "      <td>1.000000</td>\n",
       "      <td>-0.256799</td>\n",
       "      <td>0.026071</td>\n",
       "      <td>-0.026071</td>\n",
       "    </tr>\n",
       "    <tr>\n",
       "      <th>age_45-49</th>\n",
       "      <td>0.102743</td>\n",
       "      <td>0.191246</td>\n",
       "      <td>0.179187</td>\n",
       "      <td>-0.025933</td>\n",
       "      <td>-0.043914</td>\n",
       "      <td>-0.417224</td>\n",
       "      <td>-0.284930</td>\n",
       "      <td>-0.256799</td>\n",
       "      <td>1.000000</td>\n",
       "      <td>0.054980</td>\n",
       "      <td>-0.054980</td>\n",
       "    </tr>\n",
       "    <tr>\n",
       "      <th>gender_F</th>\n",
       "      <td>0.067059</td>\n",
       "      <td>0.168725</td>\n",
       "      <td>0.125022</td>\n",
       "      <td>0.027559</td>\n",
       "      <td>-0.025350</td>\n",
       "      <td>-0.030271</td>\n",
       "      <td>-0.044824</td>\n",
       "      <td>0.026071</td>\n",
       "      <td>0.054980</td>\n",
       "      <td>1.000000</td>\n",
       "      <td>-1.000000</td>\n",
       "    </tr>\n",
       "    <tr>\n",
       "      <th>gender_M</th>\n",
       "      <td>-0.067059</td>\n",
       "      <td>-0.168725</td>\n",
       "      <td>-0.125022</td>\n",
       "      <td>-0.027559</td>\n",
       "      <td>0.025350</td>\n",
       "      <td>0.030271</td>\n",
       "      <td>0.044824</td>\n",
       "      <td>-0.026071</td>\n",
       "      <td>-0.054980</td>\n",
       "      <td>-1.000000</td>\n",
       "      <td>1.000000</td>\n",
       "    </tr>\n",
       "  </tbody>\n",
       "</table>\n",
       "</div>"
      ],
      "text/plain": [
       "                     Impressions    Clicks     Spent  Total_Conversion  \\\n",
       "Impressions             1.000000  0.948514  0.970386          0.812838   \n",
       "Clicks                  0.948514  1.000000  0.992906          0.694632   \n",
       "Spent                   0.970386  0.992906  1.000000          0.725379   \n",
       "Total_Conversion        0.812838  0.694632  0.725379          1.000000   \n",
       "Approved_Conversion     0.684249  0.559526  0.593178          0.864034   \n",
       "age_30-34              -0.066877 -0.150856 -0.138037          0.086600   \n",
       "age_35-39              -0.028549 -0.044296 -0.039705         -0.038931   \n",
       "age_40-44               0.002822  0.028765  0.020909         -0.038657   \n",
       "age_45-49               0.102743  0.191246  0.179187         -0.025933   \n",
       "gender_F                0.067059  0.168725  0.125022          0.027559   \n",
       "gender_M               -0.067059 -0.168725 -0.125022         -0.027559   \n",
       "\n",
       "                     Approved_Conversion  age_30-34  age_35-39  age_40-44  \\\n",
       "Impressions                     0.684249  -0.066877  -0.028549   0.002822   \n",
       "Clicks                          0.559526  -0.150856  -0.044296   0.028765   \n",
       "Spent                           0.593178  -0.138037  -0.039705   0.020909   \n",
       "Total_Conversion                0.864034   0.086600  -0.038931  -0.038657   \n",
       "Approved_Conversion             1.000000   0.095685  -0.033133  -0.036732   \n",
       "age_30-34                       0.095685   1.000000  -0.405751  -0.365691   \n",
       "age_35-39                      -0.033133  -0.405751   1.000000  -0.249737   \n",
       "age_40-44                      -0.036732  -0.365691  -0.249737   1.000000   \n",
       "age_45-49                      -0.043914  -0.417224  -0.284930  -0.256799   \n",
       "gender_F                       -0.025350  -0.030271  -0.044824   0.026071   \n",
       "gender_M                        0.025350   0.030271   0.044824  -0.026071   \n",
       "\n",
       "                     age_45-49  gender_F  gender_M  \n",
       "Impressions           0.102743  0.067059 -0.067059  \n",
       "Clicks                0.191246  0.168725 -0.168725  \n",
       "Spent                 0.179187  0.125022 -0.125022  \n",
       "Total_Conversion     -0.025933  0.027559 -0.027559  \n",
       "Approved_Conversion  -0.043914 -0.025350  0.025350  \n",
       "age_30-34            -0.417224 -0.030271  0.030271  \n",
       "age_35-39            -0.284930 -0.044824  0.044824  \n",
       "age_40-44            -0.256799  0.026071 -0.026071  \n",
       "age_45-49             1.000000  0.054980 -0.054980  \n",
       "gender_F              0.054980  1.000000 -1.000000  \n",
       "gender_M             -0.054980 -1.000000  1.000000  "
      ]
     },
     "execution_count": 11,
     "metadata": {},
     "output_type": "execute_result"
    }
   ],
   "source": [
    "X.drop(['ad_id', 'xyz_campaign_id', 'fb_campaign_id', 'interest'], axis =1).corr()"
   ]
  },
  {
   "cell_type": "code",
   "execution_count": 12,
   "metadata": {},
   "outputs": [
    {
     "data": {
      "text/plain": [
       "<matplotlib.axes._subplots.AxesSubplot at 0x1cc8fead490>"
      ]
     },
     "execution_count": 12,
     "metadata": {},
     "output_type": "execute_result"
    },
    {
     "data": {
      "image/png": "[encoded data removed]",
      "text/plain": [
       "<Figure size 864x504 with 2 Axes>"
      ]
     },
     "metadata": {
      "needs_background": "light"
     },
     "output_type": "display_data"
    }
   ],
   "source": [
    "plt.subplots(figsize=(12, 7))\n",
    "sns.heatmap(X.drop(['ad_id', 'xyz_campaign_id', 'fb_campaign_id', 'interest'], axis =1).corr())"
   ]
  },
  {
   "cell_type": "markdown",
   "metadata": {},
   "source": [
    "### 4. Using the elbow method:\n",
    "    a. Determine the best number of clusters for the data in the range of 2 to 20.\n",
    "    b. Also include the graphical plot for the elbow curve."
   ]
  },
  {
   "cell_type": "code",
   "execution_count": 59,
   "metadata": {},
   "outputs": [
    {
     "data": {
      "image/png": "[encoded data removed]",
      "text/plain": [
       "<Figure size 864x504 with 1 Axes>"
      ]
     },
     "metadata": {
      "needs_background": "light"
     },
     "output_type": "display_data"
    }
   ],
   "source": [
    "from sklearn.cluster import KMeans\n",
    "import seaborn as sns \n",
    "\n",
    "sum_of_sq_dist = {}\n",
    "for k in range(2,20):\n",
    "    km = KMeans(n_clusters= k, init= 'k-means++', max_iter= 1000)\n",
    "    km = km.fit(X)\n",
    "    sum_of_sq_dist[k] = km.inertia_\n",
    "    \n",
    "#Plot the graph for the sum of square distance values and Number of Clusters\n",
    "plt.subplots(figsize=(12, 7))\n",
    "sns.pointplot(x = list(sum_of_sq_dist.keys()), y = list(sum_of_sq_dist.values()))\n",
    "plt.xlabel('Number of Clusters(k)')\n",
    "plt.ylabel('Sum of Square Distances')\n",
    "plt.title('Elbow Method For Optimal k')\n",
    "plt.show()"
   ]
  },
  {
   "cell_type": "markdown",
   "metadata": {},
   "source": [
    "    Best number of clusters for the data in the range of 2 to 20 is 4"
   ]
  },
  {
   "cell_type": "markdown",
   "metadata": {},
   "source": [
    "### 5. Based on the result above in 4b use the value at your elbow point to cluster the values in the data frame X."
   ]
  },
  {
   "cell_type": "code",
   "execution_count": 14,
   "metadata": {},
   "outputs": [
    {
     "data": {
      "text/plain": [
       "KMeans(max_iter=1000, n_clusters=4)"
      ]
     },
     "execution_count": 14,
     "metadata": {},
     "output_type": "execute_result"
    }
   ],
   "source": [
    "#Perform K-Mean Clustering or build the K-Means clustering model\n",
    "KMean_clust = KMeans(n_clusters= 4, init= 'k-means++', max_iter= 1000)\n",
    "KMean_clust.fit(X)"
   ]
  },
  {
   "cell_type": "code",
   "execution_count": 15,
   "metadata": {},
   "outputs": [
    {
     "data": {
      "text/plain": [
       "22209301996095.832"
      ]
     },
     "execution_count": 15,
     "metadata": {},
     "output_type": "execute_result"
    }
   ],
   "source": [
    "KMean_clust.inertia_"
   ]
  },
  {
   "cell_type": "markdown",
   "metadata": {},
   "source": [
    "### 6. Use the model to predict the labels from the data and save them to variable y_means."
   ]
  },
  {
   "cell_type": "code",
   "execution_count": 16,
   "metadata": {},
   "outputs": [
    {
     "data": {
      "text/plain": [
       "array([1, 1, 1, ..., 3, 0, 0])"
      ]
     },
     "execution_count": 16,
     "metadata": {},
     "output_type": "execute_result"
    }
   ],
   "source": [
    "#Find the clusters for the observation given in the dataset\n",
    "y_means = KMean_clust.labels_\n",
    "y_means"
   ]
  },
  {
   "cell_type": "markdown",
   "metadata": {},
   "source": [
    "### 7. Add the values in y_means to the original data frame (not X) as column ‘Advert_Type’."
   ]
  },
  {
   "cell_type": "code",
   "execution_count": 17,
   "metadata": {},
   "outputs": [],
   "source": [
    "df['Advert_Type'] = y_means"
   ]
  },
  {
   "cell_type": "code",
   "execution_count": 18,
   "metadata": {},
   "outputs": [
    {
     "data": {
      "text/html": [
       "<div>\n",
       "<style scoped>\n",
       "    .dataframe tbody tr th:only-of-type {\n",
       "        vertical-align: middle;\n",
       "    }\n",
       "\n",
       "    .dataframe tbody tr th {\n",
       "        vertical-align: top;\n",
       "    }\n",
       "\n",
       "    .dataframe thead th {\n",
       "        text-align: right;\n",
       "    }\n",
       "</style>\n",
       "<table border=\"1\" class=\"dataframe\">\n",
       "  <thead>\n",
       "    <tr style=\"text-align: right;\">\n",
       "      <th></th>\n",
       "      <th>ad_id</th>\n",
       "      <th>xyz_campaign_id</th>\n",
       "      <th>fb_campaign_id</th>\n",
       "      <th>age</th>\n",
       "      <th>gender</th>\n",
       "      <th>interest</th>\n",
       "      <th>Impressions</th>\n",
       "      <th>Clicks</th>\n",
       "      <th>Spent</th>\n",
       "      <th>Total_Conversion</th>\n",
       "      <th>Approved_Conversion</th>\n",
       "      <th>Advert_Type</th>\n",
       "    </tr>\n",
       "  </thead>\n",
       "  <tbody>\n",
       "    <tr>\n",
       "      <th>0</th>\n",
       "      <td>708746</td>\n",
       "      <td>916</td>\n",
       "      <td>103916</td>\n",
       "      <td>30-34</td>\n",
       "      <td>M</td>\n",
       "      <td>15</td>\n",
       "      <td>7350</td>\n",
       "      <td>1</td>\n",
       "      <td>1.43</td>\n",
       "      <td>2</td>\n",
       "      <td>1</td>\n",
       "      <td>1</td>\n",
       "    </tr>\n",
       "    <tr>\n",
       "      <th>1</th>\n",
       "      <td>708749</td>\n",
       "      <td>916</td>\n",
       "      <td>103917</td>\n",
       "      <td>30-34</td>\n",
       "      <td>M</td>\n",
       "      <td>16</td>\n",
       "      <td>17861</td>\n",
       "      <td>2</td>\n",
       "      <td>1.82</td>\n",
       "      <td>2</td>\n",
       "      <td>0</td>\n",
       "      <td>1</td>\n",
       "    </tr>\n",
       "    <tr>\n",
       "      <th>2</th>\n",
       "      <td>708771</td>\n",
       "      <td>916</td>\n",
       "      <td>103920</td>\n",
       "      <td>30-34</td>\n",
       "      <td>M</td>\n",
       "      <td>20</td>\n",
       "      <td>693</td>\n",
       "      <td>0</td>\n",
       "      <td>0.00</td>\n",
       "      <td>1</td>\n",
       "      <td>0</td>\n",
       "      <td>1</td>\n",
       "    </tr>\n",
       "    <tr>\n",
       "      <th>3</th>\n",
       "      <td>708815</td>\n",
       "      <td>916</td>\n",
       "      <td>103928</td>\n",
       "      <td>30-34</td>\n",
       "      <td>M</td>\n",
       "      <td>28</td>\n",
       "      <td>4259</td>\n",
       "      <td>1</td>\n",
       "      <td>1.25</td>\n",
       "      <td>1</td>\n",
       "      <td>0</td>\n",
       "      <td>1</td>\n",
       "    </tr>\n",
       "    <tr>\n",
       "      <th>4</th>\n",
       "      <td>708818</td>\n",
       "      <td>916</td>\n",
       "      <td>103928</td>\n",
       "      <td>30-34</td>\n",
       "      <td>M</td>\n",
       "      <td>28</td>\n",
       "      <td>4133</td>\n",
       "      <td>1</td>\n",
       "      <td>1.29</td>\n",
       "      <td>1</td>\n",
       "      <td>1</td>\n",
       "      <td>1</td>\n",
       "    </tr>\n",
       "  </tbody>\n",
       "</table>\n",
       "</div>"
      ],
      "text/plain": [
       "    ad_id  xyz_campaign_id  fb_campaign_id    age gender  interest  \\\n",
       "0  708746              916          103916  30-34      M        15   \n",
       "1  708749              916          103917  30-34      M        16   \n",
       "2  708771              916          103920  30-34      M        20   \n",
       "3  708815              916          103928  30-34      M        28   \n",
       "4  708818              916          103928  30-34      M        28   \n",
       "\n",
       "   Impressions  Clicks  Spent  Total_Conversion  Approved_Conversion  \\\n",
       "0         7350       1   1.43                 2                    1   \n",
       "1        17861       2   1.82                 2                    0   \n",
       "2          693       0   0.00                 1                    0   \n",
       "3         4259       1   1.25                 1                    0   \n",
       "4         4133       1   1.29                 1                    1   \n",
       "\n",
       "   Advert_Type  \n",
       "0            1  \n",
       "1            1  \n",
       "2            1  \n",
       "3            1  \n",
       "4            1  "
      ]
     },
     "execution_count": 18,
     "metadata": {},
     "output_type": "execute_result"
    }
   ],
   "source": [
    "df.head()"
   ]
  },
  {
   "cell_type": "markdown",
   "metadata": {},
   "source": [
    "### 8. Using any form of distribution plot of your choice and the original data frame, plot 2 graphs that can be used to answer the following:\n",
    "    a. Which advert type lead to the highest and consistent amount of sales by customers of all the age brackets?\n",
    "    b. Does the company xyz have gender bias in terms of their ad spending? Are their products gender neutral?"
   ]
  },
  {
   "cell_type": "code",
   "execution_count": 19,
   "metadata": {},
   "outputs": [
    {
     "data": {
      "text/plain": [
       "Index(['ad_id', 'xyz_campaign_id', 'fb_campaign_id', 'age', 'gender',\n",
       "       'interest', 'Impressions', 'Clicks', 'Spent', 'Total_Conversion',\n",
       "       'Approved_Conversion', 'Advert_Type'],\n",
       "      dtype='object')"
      ]
     },
     "execution_count": 19,
     "metadata": {},
     "output_type": "execute_result"
    }
   ],
   "source": [
    "df.columns"
   ]
  },
  {
   "cell_type": "code",
   "execution_count": 20,
   "metadata": {},
   "outputs": [
    {
     "data": {
      "text/plain": [
       "array(['30-34', '35-39', '40-44', '45-49'], dtype=object)"
      ]
     },
     "execution_count": 20,
     "metadata": {},
     "output_type": "execute_result"
    }
   ],
   "source": [
    "df.age.unique()"
   ]
  },
  {
   "cell_type": "code",
   "execution_count": 28,
   "metadata": {},
   "outputs": [
    {
     "data": {
      "text/plain": [
       "(639.9499981, 0.0)"
      ]
     },
     "execution_count": 28,
     "metadata": {},
     "output_type": "execute_result"
    }
   ],
   "source": [
    "df.Spent.max(), df.Spent.min()"
   ]
  },
  {
   "cell_type": "code",
   "execution_count": 58,
   "metadata": {},
   "outputs": [
    {
     "data": {
      "image/png": "[encoded data removed]",
      "text/plain": [
       "<Figure size 713.125x432 with 1 Axes>"
      ]
     },
     "metadata": {
      "needs_background": "light"
     },
     "output_type": "display_data"
    }
   ],
   "source": [
    "sns.catplot(x=\"Advert_Type\", y=\"Spent\", hue=\"age\", kind=\"bar\", data=df, height= 6, aspect=1.5);"
   ]
  },
  {
   "cell_type": "markdown",
   "metadata": {},
   "source": [
    "    Advert type 2 leads to the highest and consistent amount of sales by customers of all the age brackets"
   ]
  },
  {
   "cell_type": "code",
   "execution_count": 56,
   "metadata": {},
   "outputs": [
    {
     "data": {
      "image/png": "[encoded data removed]",
      "text/plain": [
       "<Figure size 692.625x432 with 1 Axes>"
      ]
     },
     "metadata": {
      "needs_background": "light"
     },
     "output_type": "display_data"
    }
   ],
   "source": [
    "sns.catplot(x=\"Advert_Type\", y=\"Spent\", hue=\"gender\", kind=\"bar\", data=df, height= 6, aspect=1.5);"
   ]
  },
  {
   "cell_type": "markdown",
   "metadata": {},
   "source": [
    "    Company xyz does not have gender bias in terms of their ad spending. \n",
    "    Their products gender neutral"
   ]
  },
  {
   "cell_type": "markdown",
   "metadata": {},
   "source": [
    "***"
   ]
  },
  {
   "cell_type": "markdown",
   "metadata": {},
   "source": [
    "<h4><center>The End</center></h4>"
   ]
  }
 ],
 "metadata": {
  "kernelspec": {
   "display_name": "Python 3",
   "language": "python",
   "name": "python3"
  },
  "language_info": {
   "codemirror_mode": {
    "name": "ipython",
    "version": 3
   },
   "file_extension": ".py",
   "mimetype": "text/x-python",
   "name": "python",
   "nbconvert_exporter": "python",
   "pygments_lexer": "ipython3",
   "version": "3.8.3"
  }
 },
 "nbformat": 4,
 "nbformat_minor": 4
}
